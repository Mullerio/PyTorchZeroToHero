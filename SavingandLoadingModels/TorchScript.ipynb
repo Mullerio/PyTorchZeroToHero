{
 "cells": [
  {
   "cell_type": "markdown",
   "metadata": {},
   "source": [
    "##### Introduction to Torchscript\n",
    "\n",
    "Torchscript helps you to save your models in a way that will greatly improve its inference perfomance and aditionally allow you to encorporate your models into production code in C++ designed for fast inference. Inference using Torchscript is especially powerful when using a GPU, as we will see. \n",
    "\n",
    "This is especially relevant in practice, a good video on the topic is https://www.youtube.com/watch?v=St3gdHJzic0. \n",
    "\n",
    "Note that torchscript is currently no longer in development, a similar feature meant to be its successor is in active development. See https://pytorch.org/docs/stable/jit.html and  https://pytorch.org/docs/stable/export.html.\n",
    "\n",
    "For the example, we are going to load the preloaded model restnet50 from `torchvision` which is based on https://arxiv.org/abs/1512.03385 and look how fast its inference is on images. "
   ]
  },
  {
   "cell_type": "code",
   "execution_count": 9,
   "metadata": {},
   "outputs": [],
   "source": [
    "import torch\n",
    "import torchvision\n",
    "import time # lets us track time\n",
    "import numpy as np\n",
    "from prettytable import PrettyTable # easily can do tables in prints "
   ]
  },
  {
   "cell_type": "code",
   "execution_count": null,
   "metadata": {},
   "outputs": [
    {
     "name": "stderr",
     "output_type": "stream",
     "text": [
      "c:\\Users\\JoCraft\\AppData\\Local\\Programs\\Python\\Python312\\Lib\\site-packages\\torchvision\\models\\_utils.py:208: UserWarning: The parameter 'pretrained' is deprecated since 0.13 and may be removed in the future, please use 'weights' instead.\n",
      "  warnings.warn(\n",
      "c:\\Users\\JoCraft\\AppData\\Local\\Programs\\Python\\Python312\\Lib\\site-packages\\torchvision\\models\\_utils.py:223: UserWarning: Arguments other than a weight enum or `None` for 'weights' are deprecated since 0.13 and may be removed in the future. The current behavior is equivalent to passing `weights=ResNet34_Weights.IMAGENET1K_V1`. You can also use `weights=ResNet34_Weights.DEFAULT` to get the most up-to-date weights.\n",
      "  warnings.warn(msg)\n"
     ]
    },
    {
     "name": "stdout",
     "output_type": "stream",
     "text": [
      "Average inference time over 100 Iterations (normal PyTorch): 0.005733 seconds\n",
      "Average inference time over 100 Iterations (Torchscript): 0.002930 seconds\n",
      "+----------------+----------------+\n",
      "|      Type      | Inference Time |\n",
      "+----------------+----------------+\n",
      "| Normal PyTorch |    0.005733    |\n",
      "|  TorchScript   |    0.002930    |\n",
      "+----------------+----------------+\n",
      "TorchScript is 1.96x faster than normal PyTorch.\n"
     ]
    }
   ],
   "source": [
    "def measure_inference_time(model, input_tensor, iterations=100, device = 'cpu'):\n",
    "    model.to(device)\n",
    "    model.eval()\n",
    "    input_tensor = input_tensor.to(device)\n",
    "    with torch.no_grad():\n",
    "        start_time = time.time()\n",
    "        for _ in range(iterations):\n",
    "            _ = model(input_tensor)\n",
    "        end_time = time.time()\n",
    "\n",
    "    avg_inference_time = (end_time - start_time) / iterations\n",
    "    return avg_inference_time\n",
    "\n",
    "device = \"cuda\" if torch.cuda.is_available() else \"cpu\"\n",
    "\n",
    "input_image = torch.randn(1,3,224,224)\n",
    "\n",
    "model = torchvision.models.resnet34(pretrained=True)\n",
    "\n",
    "time_without_torchscript = measure_inference_time(model,input_image, device=device)\n",
    "\n",
    "#translate model to Torchscript\n",
    "torchscript_model = torch.jit.script(model)\n",
    "time_with_torchscript = measure_inference_time(torchscript_model, input_image,device=device)\n",
    "\n",
    "table = PrettyTable()\n",
    "table.field_names = [\"Type\", \"Inference Time\"]\n",
    "table.add_row([\"Normal PyTorch\", f\"{time_without_torchscript:.6f}\"])\n",
    "table.add_row([\"TorchScript\", f\"{time_with_torchscript:.6f}\"])\n",
    "\n",
    "# Print the table\n",
    "print(table)\n",
    "\n",
    "# Compare results\n",
    "print(f\"TorchScript is {time_without_torchscript / time_with_torchscript:.2f}x faster than normal PyTorch.\")\n"
   ]
  },
  {
   "cell_type": "code",
   "execution_count": null,
   "metadata": {},
   "outputs": [],
   "source": []
  }
 ],
 "metadata": {
  "kernelspec": {
   "display_name": "Python 3",
   "language": "python",
   "name": "python3"
  },
  "language_info": {
   "codemirror_mode": {
    "name": "ipython",
    "version": 3
   },
   "file_extension": ".py",
   "mimetype": "text/x-python",
   "name": "python",
   "nbconvert_exporter": "python",
   "pygments_lexer": "ipython3",
   "version": "3.12.4"
  }
 },
 "nbformat": 4,
 "nbformat_minor": 2
}
