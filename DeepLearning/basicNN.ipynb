{
 "cells": [
  {
   "cell_type": "markdown",
   "metadata": {},
   "source": [
    "## Building Basic Neural Networks in PyTorch \n",
    "\n",
    "To implement our own Neural networks in PyTorch, we build a class inheriting form `nn.Module` and use other `nn.Module`s to define our own Neural Network, since most basic Layers, such as Linear, Convolution, Attention or RNN based ones, are already implemented in PyTorch. Similarly, we can also define our own Layers and reuse them in other Modules. \n",
    "\n",
    "The class `nn.Module` offers basic functionaility and expects us only to implement the forward pass in `model.forward()`.\n",
    "\n",
    "Other than that, it also gives us things like `model.state_dict()` which is returns all the Parameters of our Model layer wise as a dictionary. \n",
    "\n",
    "We get much more functionaility, which we will get into later. For now, lets see how we can build a simple NN.\n",
    "\n",
    "### Building a basic Neural Network | Two ways \n",
    "\n",
    "To build a basic MLP, we can just define every layer as a variable of our class, as we will see in the following first example. Another way to implement an MLP is to use `nn.Sequential` the latter is easier to use, as we don't need to implement the forward method ourselves, but of course this makes it less customizable. \n",
    "\n",
    "`nn.Sequential` is very similar to `nn.ModuleList`, however the latter is literally just a list as opposed to `nn.Sequential`."
   ]
  },
  {
   "cell_type": "code",
   "execution_count": 1,
   "metadata": {},
   "outputs": [],
   "source": [
    "import torch\n",
    "import torch.nn as nn\n",
    "import matplotlib.pyplot as plt\n",
    "import numpy as np"
   ]
  },
  {
   "cell_type": "code",
   "execution_count": 2,
   "metadata": {},
   "outputs": [
    {
     "name": "stdout",
     "output_type": "stream",
     "text": [
      "OrderedDict({'Layer1.weight': tensor([[-0.1677],\n",
      "        [-0.0474],\n",
      "        [ 0.9334],\n",
      "        [-0.1905],\n",
      "        [-0.5339]]), 'Layer1.bias': tensor([ 0.6955, -0.1296, -0.5147,  0.6121,  0.3543]), 'Layer2.weight': tensor([[ 0.3240,  0.0154,  0.3076, -0.3901,  0.3650],\n",
      "        [-0.3171,  0.3351,  0.2229,  0.4274, -0.2946],\n",
      "        [ 0.4248, -0.2927, -0.2377,  0.3034, -0.1779]]), 'Layer2.bias': tensor([-0.0375,  0.2091,  0.1120]), 'Layer3.weight': tensor([[ 0.4735,  0.0803,  0.2892],\n",
      "        [ 0.4979,  0.0873,  0.3712],\n",
      "        [-0.1063, -0.0295,  0.2946]]), 'Layer3.bias': tensor([-0.2383,  0.3901, -0.0340]), 'Layer4.weight': tensor([[0.3773, 0.0655, 0.3270]]), 'Layer4.bias': tensor([-0.4052])})\n",
      "OrderedDict({'0.weight': tensor([[-0.3373],\n",
      "        [-0.4236],\n",
      "        [ 0.6567],\n",
      "        [-0.7836],\n",
      "        [-0.3007]]), '0.bias': tensor([-0.3072, -0.5548,  0.8542,  0.7935, -0.8558]), '2.weight': tensor([[-0.1471, -0.2135,  0.1036,  0.2358, -0.2510],\n",
      "        [-0.3151, -0.1589,  0.0866,  0.0145,  0.2165],\n",
      "        [ 0.3838, -0.0869, -0.4344,  0.2863,  0.2488]]), '2.bias': tensor([-0.2018, -0.0411, -0.3356]), '4.weight': tensor([[-0.1098,  0.2136,  0.2279],\n",
      "        [ 0.2892, -0.2046, -0.0300],\n",
      "        [ 0.1815,  0.4989,  0.5437]]), '4.bias': tensor([ 0.5432, -0.5587,  0.4900]), '6.weight': tensor([[ 0.5305, -0.2584, -0.5115]]), '6.bias': tensor([0.3763])})\n"
     ]
    }
   ],
   "source": [
    "class sampleNN(nn.Module):\n",
    "    def __init__(self):\n",
    "        super().__init__()\n",
    "        \n",
    "        self.Layer1 = nn.Linear(1,5)\n",
    "        self.act1 = nn.ReLU()\n",
    "        self.Layer2 = nn.Linear(5,3)\n",
    "        self.act2 = nn.Tanh()\n",
    "        self.Layer3 = nn.Linear(3,3)\n",
    "        self.act3 = nn.ReLU()\n",
    "        self.Layer4 = nn.Linear(3,1)\n",
    "        \n",
    "    def forward(self, x):\n",
    "        x = self.Layer1(x)\n",
    "        x = self.act1(x)\n",
    "        x = self.Layer2(x)\n",
    "        x = self.act2(x)\n",
    "        x = self.Layer3(x)\n",
    "        x = self.act3(x)\n",
    "        x = self.Layer4(x)\n",
    "        return x\n",
    "    \n",
    "# The same as the above Neural Network we can implement using the Sequential class as follows\n",
    "\n",
    "model1 = sampleNN()\n",
    "\n",
    "model2 = nn.Sequential(\n",
    "    nn.Linear(1,5),\n",
    "    nn.ReLU(),\n",
    "    nn.Linear(5,3),\n",
    "    nn.Tanh(),\n",
    "    nn.Linear(3,3),\n",
    "    nn.Tanh(),\n",
    "    nn.Linear(3,1)\n",
    ")\n",
    "print(model1.state_dict())\n",
    "print(model2.state_dict())"
   ]
  },
  {
   "cell_type": "code",
   "execution_count": 3,
   "metadata": {},
   "outputs": [
    {
     "name": "stdout",
     "output_type": "stream",
     "text": [
      "Parameter containing:\n",
      "tensor([[-0.1677],\n",
      "        [-0.0474],\n",
      "        [ 0.9334],\n",
      "        [-0.1905],\n",
      "        [-0.5339]], requires_grad=True)\n",
      "Parameter containing:\n",
      "tensor([ 0.6955, -0.1296, -0.5147,  0.6121,  0.3543], requires_grad=True)\n",
      "Parameter containing:\n",
      "tensor([[ 0.3240,  0.0154,  0.3076, -0.3901,  0.3650],\n",
      "        [-0.3171,  0.3351,  0.2229,  0.4274, -0.2946],\n",
      "        [ 0.4248, -0.2927, -0.2377,  0.3034, -0.1779]], requires_grad=True)\n",
      "Parameter containing:\n",
      "tensor([-0.0375,  0.2091,  0.1120], requires_grad=True)\n",
      "Parameter containing:\n",
      "tensor([[ 0.4735,  0.0803,  0.2892],\n",
      "        [ 0.4979,  0.0873,  0.3712],\n",
      "        [-0.1063, -0.0295,  0.2946]], requires_grad=True)\n",
      "Parameter containing:\n",
      "tensor([-0.2383,  0.3901, -0.0340], requires_grad=True)\n",
      "Parameter containing:\n",
      "tensor([[0.3773, 0.0655, 0.3270]], requires_grad=True)\n",
      "Parameter containing:\n",
      "tensor([-0.4052], requires_grad=True)\n"
     ]
    }
   ],
   "source": [
    "for p in model1.parameters():\n",
    "    print(p)"
   ]
  },
  {
   "cell_type": "markdown",
   "metadata": {
    "vscode": {
     "languageId": "bat"
    }
   },
   "source": [
    "#### Model Parameters in Neural Networks\n",
    "\n",
    "As we can see, all layers are automatically associated as a Model Parameter that we want to optimize for (since `requires_grad = True`), but this is sometimes not desired (for example, the hidden state for Recurrent Neural Networks serves as \"memory\" and is not something we want to optimize for). Gnerally, if we want a Tensor to be a Parameters, we define it via `nn.Parameter(Tensor)` if we dont want it to be a Parameter, we just define it as a Tensor. Using `detach()` we can also change any Parameter into a non-Parameter. \n",
    "\n",
    "If we don't want to optimize for something, we can also set `requires_grad = False`.  Here is a Table that shows the difference between the two. \n",
    "\n",
    "| **Aspect**                 | **`requires_grad=False`**                      | **Not a Parameter**                          |\n",
    "|----------------------------|-----------------------------------------------|---------------------------------------------|\n",
    "| **Tracked by `state_dict`** | Yes                                           | No                                          |\n",
    "| **Included in optimization** | No                                           | No                                          |\n",
    "| **Can be saved/loaded**     | Yes                                           | No                                          |\n",
    "| **Gradients computed**      | No                                           | Not applicable (not part of the graph)     |\n",
    "| **Use case**                | Temporarily freeze training for specific parameters. | Variables/constants that are not trainable or part of the model's state. |\n",
    "\n",
    "For RNN it is typical to not have it as a Parameter. \n",
    "\n",
    "Lets see how the usual training loop of basic NNs looks like by training a Neural Network to approximate a sine wave."
   ]
  },
  {
   "cell_type": "code",
   "execution_count": 4,
   "metadata": {},
   "outputs": [
    {
     "name": "stdout",
     "output_type": "stream",
     "text": [
      "torch.Size([100, 1])\n",
      "Epoch: 0, Loss: 0.6754766702651978\n",
      "Epoch: 1000, Loss: 0.0038205725140869617\n",
      "Epoch: 2000, Loss: 0.013905086554586887\n",
      "Epoch: 3000, Loss: 0.006611032411456108\n",
      "Epoch: 4000, Loss: 0.005999823100864887\n",
      "Epoch: 5000, Loss: 0.005563897546380758\n",
      "Epoch: 6000, Loss: 0.002658681944012642\n",
      "Epoch: 7000, Loss: 0.004963806364685297\n",
      "Epoch: 8000, Loss: 0.007483199238777161\n",
      "Epoch: 9000, Loss: 0.007766674272716045\n"
     ]
    }
   ],
   "source": [
    "#get data \n",
    "n = 100\n",
    "#get sinuoidal data\n",
    "data = torch.sin(torch.linspace(0, 2*3.1415, n)).view(-1,1)\n",
    "\n",
    "lossfunction = nn.L1Loss()\n",
    "optimizer = torch.optim.Adam(model1.parameters(), lr=0.01)\n",
    "\n",
    "for epoch in range(10000):\n",
    "    model1.zero_grad()\n",
    "    y = model1(data)\n",
    "    loss = lossfunction(y, data)\n",
    "    loss.backward()        \n",
    "    optimizer.step()\n",
    "    if epoch % 1000 == 0:\n",
    "        print(f'Epoch: {epoch}, Loss: {loss.item()}')"
   ]
  },
  {
   "cell_type": "code",
   "execution_count": null,
   "metadata": {},
   "outputs": [
    {
     "data": {
      "image/png": "[encoded data removed]",
      "text/plain": [
       "<Figure size 640x480 with 1 Axes>"
      ]
     },
     "metadata": {},
     "output_type": "display_data"
    }
   ],
   "source": [
    "test = torch.linspace(0*3.1415,4*3.1415, n)\n",
    "output = torch.zeros(n)\n",
    "\n",
    "for i in range(n):\n",
    "    output[i] = model1(test[i].view(-1,1))\n",
    "    \n",
    "test = test.detach().numpy()\n",
    "\n",
    "plt.plot(test, output.detach().numpy())   \n",
    "plt.plot(test, np.sin(test))\n",
    "plt.show()\n",
    "#Oh no it seems our Model is lacking in expressivity, what could we improve?"
   ]
  },
  {
   "cell_type": "code",
   "execution_count": null,
   "metadata": {},
   "outputs": [],
   "source": []
  }
 ],
 "metadata": {
  "kernelspec": {
   "display_name": "Python 3",
   "language": "python",
   "name": "python3"
  },
  "language_info": {
   "codemirror_mode": {
    "name": "ipython",
    "version": 3
   },
   "file_extension": ".py",
   "mimetype": "text/x-python",
   "name": "python",
   "nbconvert_exporter": "python",
   "pygments_lexer": "ipython3",
   "version": "3.12.4"
  }
 },
 "nbformat": 4,
 "nbformat_minor": 2
}
