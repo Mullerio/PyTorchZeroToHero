{
 "cells": [
  {
   "cell_type": "markdown",
   "metadata": {},
   "source": [
    "## Building Basic Neural Networks in PyTorch \n",
    "\n",
    "To implement our own Neural networks in PyTorch, we build a class inheriting form `nn.Module` and use other `nn.Module`s to define our own Neural Network, since most basic Layers, such as Linear, Convolution, Attention or RNN based ones, are already implemented in PyTorch. Similarly, we can also define our own Layers and reuse them in other Modules. \n",
    "\n",
    "The class `nn.Module` offers basic functionaility and expects us only to implement the forward pass in `model.forward()`.\n",
    "\n",
    "Other than that, it also gives us things like `model.state_dict()` which is returns all the Parameters of our Model layer wise as a dictionary. \n",
    "\n",
    "We get much more functionaility, which we will get into later. For now, lets see how we can build a simple NN.\n",
    "\n",
    "### Building a basic Neural Network | Two ways \n",
    "\n",
    "To build a basic MLP, we can just define every layer as a variable of our class, as we will see in the following first example. Another way to implement an MLP is to use `nn.Sequential` the latter is easier to use, as we don't need to implement the forward method ourselves, but of course this makes it less customizable. \n",
    "\n",
    "`nn.Sequential` is very similar to `nn.ModuleList`, however the latter is literally just a list as opposed to `nn.Sequential`."
   ]
  },
  {
   "cell_type": "code",
   "execution_count": 1,
   "metadata": {},
   "outputs": [],
   "source": [
    "import torch\n",
    "import torch.nn as nn\n",
    "import matplotlib.pyplot as plt\n",
    "import numpy as np"
   ]
  },
  {
   "cell_type": "code",
   "execution_count": 2,
   "metadata": {},
   "outputs": [
    {
     "name": "stdout",
     "output_type": "stream",
     "text": [
      "OrderedDict({'Layer1.weight': tensor([[ 0.5829],\n",
      "        [-0.6729],\n",
      "        [-0.5678],\n",
      "        [ 0.4775],\n",
      "        [-0.1380]]), 'Layer1.bias': tensor([-0.9716,  0.1463, -0.6795,  0.4006, -0.9935]), 'Layer2.weight': tensor([[-0.0649,  0.3667, -0.2898, -0.1087,  0.0762],\n",
      "        [-0.1426, -0.4036, -0.4268, -0.2323, -0.4046],\n",
      "        [-0.3658, -0.2015, -0.1345, -0.1961, -0.0245]]), 'Layer2.bias': tensor([0.0800, 0.1327, 0.0495]), 'Layer3.weight': tensor([[-0.4646, -0.1953, -0.0624],\n",
      "        [ 0.0293, -0.0225, -0.3419],\n",
      "        [ 0.1632,  0.3884,  0.2142]]), 'Layer3.bias': tensor([0.2076, 0.5362, 0.0436]), 'Layer4.weight': tensor([[ 0.3036,  0.4364, -0.3376]]), 'Layer4.bias': tensor([-0.0371])})\n",
      "OrderedDict({'0.weight': tensor([[-0.9087],\n",
      "        [-0.2402],\n",
      "        [ 0.8786],\n",
      "        [-0.6718],\n",
      "        [ 0.9514]]), '0.bias': tensor([ 0.8037, -0.5372, -0.2430, -0.5394,  0.6473]), '2.weight': tensor([[-0.2953,  0.3972, -0.3586, -0.2282, -0.0775],\n",
      "        [ 0.0652,  0.0932, -0.1148, -0.1189, -0.3595],\n",
      "        [-0.3014,  0.2391,  0.2818,  0.0078,  0.3276]]), '2.bias': tensor([ 0.1858,  0.0847, -0.0887]), '4.weight': tensor([[-0.3008, -0.0704,  0.4784],\n",
      "        [ 0.1094, -0.5095,  0.0724],\n",
      "        [-0.4357,  0.1087, -0.4315]]), '4.bias': tensor([-0.2100, -0.1934, -0.2577]), '6.weight': tensor([[-0.3766,  0.0592, -0.0627]]), '6.bias': tensor([0.0073])})\n"
     ]
    }
   ],
   "source": [
    "class sampleNN(nn.Module):\n",
    "    def __init__(self):\n",
    "        super().__init__()\n",
    "        \n",
    "        self.Layer1 = nn.Linear(1,5)\n",
    "        self.act1 = nn.ReLU()\n",
    "        self.Layer2 = nn.Linear(5,3)\n",
    "        self.act2 = nn.Tanh()\n",
    "        self.Layer3 = nn.Linear(3,3)\n",
    "        self.act3 = nn.ReLU()\n",
    "        self.Layer4 = nn.Linear(3,1)\n",
    "        \n",
    "    def forward(self, x):\n",
    "        x = self.Layer1(x)\n",
    "        x = self.act1(x)\n",
    "        x = self.Layer2(x)\n",
    "        x = self.act2(x)\n",
    "        x = self.Layer3(x)\n",
    "        x = self.act3(x)\n",
    "        x = self.Layer4(x)\n",
    "        return x\n",
    "    \n",
    "# The same as the above Neural Network we can implement using the Sequential class as follows\n",
    "\n",
    "model1 = sampleNN()\n",
    "\n",
    "model2 = nn.Sequential(\n",
    "    nn.Linear(1,5),\n",
    "    nn.ReLU(),\n",
    "    nn.Linear(5,3),\n",
    "    nn.Tanh(),\n",
    "    nn.Linear(3,3),\n",
    "    nn.Tanh(),\n",
    "    nn.Linear(3,1)\n",
    ")\n",
    "print(model1.state_dict())\n",
    "print(model2.state_dict())"
   ]
  },
  {
   "cell_type": "code",
   "execution_count": 3,
   "metadata": {},
   "outputs": [
    {
     "name": "stdout",
     "output_type": "stream",
     "text": [
      "Parameter containing:\n",
      "tensor([[ 0.5829],\n",
      "        [-0.6729],\n",
      "        [-0.5678],\n",
      "        [ 0.4775],\n",
      "        [-0.1380]], requires_grad=True)\n",
      "Parameter containing:\n",
      "tensor([-0.9716,  0.1463, -0.6795,  0.4006, -0.9935], requires_grad=True)\n",
      "Parameter containing:\n",
      "tensor([[-0.0649,  0.3667, -0.2898, -0.1087,  0.0762],\n",
      "        [-0.1426, -0.4036, -0.4268, -0.2323, -0.4046],\n",
      "        [-0.3658, -0.2015, -0.1345, -0.1961, -0.0245]], requires_grad=True)\n",
      "Parameter containing:\n",
      "tensor([0.0800, 0.1327, 0.0495], requires_grad=True)\n",
      "Parameter containing:\n",
      "tensor([[-0.4646, -0.1953, -0.0624],\n",
      "        [ 0.0293, -0.0225, -0.3419],\n",
      "        [ 0.1632,  0.3884,  0.2142]], requires_grad=True)\n",
      "Parameter containing:\n",
      "tensor([0.2076, 0.5362, 0.0436], requires_grad=True)\n",
      "Parameter containing:\n",
      "tensor([[ 0.3036,  0.4364, -0.3376]], requires_grad=True)\n",
      "Parameter containing:\n",
      "tensor([-0.0371], requires_grad=True)\n"
     ]
    }
   ],
   "source": [
    "for p in model1.parameters():\n",
    "    print(p)"
   ]
  },
  {
   "cell_type": "markdown",
   "metadata": {
    "vscode": {
     "languageId": "bat"
    }
   },
   "source": [
    "#### Model Parameters in Neural Networks\n",
    "\n",
    "As we can see, all layers are automatically associated as a Model Parameter that we want to optimize for (since `requires_grad = True`), but this is sometimes not desired (for example, the hidden state for Recurrent Neural Networks serves as \"memory\" and is not something we want to optimize for). Gnerally, if we want a Tensor to be a Parameters, we define it via `nn.Parameter(Tensor)` if we dont want it to be a Parameter, we just define it as a Tensor. Using `detach()` we can also change any Parameter into a non-Parameter. \n",
    "\n",
    "If we don't want to optimize for something, we can also set `requires_grad = False`.  Here is a Table that shows the difference between the two. \n",
    "\n",
    "| **Aspect**                 | **`requires_grad=False`**                      | **Not a Parameter**                          |\n",
    "|----------------------------|-----------------------------------------------|---------------------------------------------|\n",
    "| **Tracked by `state_dict`** | Yes                                           | No                                          |\n",
    "| **Included in optimization** | No                                           | No                                          |\n",
    "| **Can be saved/loaded**     | Yes                                           | No                                          |\n",
    "| **Gradients computed**      | No                                           | Not applicable (not part of the graph)     |\n",
    "| **Use case**                | Temporarily freeze training for specific parameters. | Variables/constants that are not trainable or part of the model's state. |\n",
    "\n",
    "For RNN it is typical to not have it as a Parameter. \n",
    "\n",
    "Lets see how the usual training loop of basic NNs looks like by training a Neural Network to approximate a sine wave."
   ]
  },
  {
   "cell_type": "code",
   "execution_count": 4,
   "metadata": {},
   "outputs": [
    {
     "name": "stdout",
     "output_type": "stream",
     "text": [
      "Epoch: 0, Loss: 0.6403626799583435\n",
      "Epoch: 1000, Loss: 0.016202056780457497\n",
      "Epoch: 2000, Loss: 0.0036818564403802156\n",
      "Epoch: 3000, Loss: 0.012518495321273804\n",
      "Epoch: 4000, Loss: 0.012717857956886292\n",
      "Epoch: 5000, Loss: 0.009220829233527184\n",
      "Epoch: 6000, Loss: 0.00692359684035182\n",
      "Epoch: 7000, Loss: 0.0036844094283878803\n",
      "Epoch: 8000, Loss: 0.0075304326601326466\n",
      "Epoch: 9000, Loss: 0.002185889519751072\n",
      "Epoch: 10000, Loss: 0.003990953788161278\n",
      "Epoch: 11000, Loss: 0.012007325887680054\n",
      "Epoch: 12000, Loss: 0.004866347182542086\n",
      "Epoch: 13000, Loss: 0.002924861153587699\n",
      "Epoch: 14000, Loss: 0.004161527380347252\n",
      "Epoch: 15000, Loss: 0.009264785796403885\n",
      "Epoch: 16000, Loss: 0.012205657549202442\n",
      "Epoch: 17000, Loss: 0.004945901222527027\n",
      "Epoch: 18000, Loss: 0.00394162954762578\n",
      "Epoch: 19000, Loss: 0.01265063975006342\n"
     ]
    }
   ],
   "source": [
    "#get data \n",
    "n = 300\n",
    "#get sinuoidal data\n",
    "data = torch.sin(torch.linspace(0, 4*3.1415, n)).view(-1,1)\n",
    "\n",
    "lossfunction = nn.L1Loss()\n",
    "optimizer = torch.optim.Adam(model1.parameters(), lr=0.01)\n",
    "\n",
    "for epoch in range(20000):\n",
    "    model1.zero_grad()\n",
    "    y = model1(data)\n",
    "    loss = lossfunction(y, data)\n",
    "    loss.backward()        \n",
    "    optimizer.step()\n",
    "    if epoch % 1000 == 0:\n",
    "        print(f'Epoch: {epoch}, Loss: {loss.item()}')"
   ]
  },
  {
   "cell_type": "code",
   "execution_count": 5,
   "metadata": {},
   "outputs": [
    {
     "data": {
      "image/png": "[encoded data removed]",
      "text/plain": [
       "<Figure size 640x480 with 1 Axes>"
      ]
     },
     "metadata": {},
     "output_type": "display_data"
    }
   ],
   "source": [
    "test = torch.linspace(0*3.1415,4*3.1415, n)\n",
    "output = torch.zeros(n)\n",
    "\n",
    "for i in range(n):\n",
    "    output[i] = model1(test[i].view(-1,1))\n",
    "    \n",
    "test = test.detach().numpy()\n",
    "\n",
    "plt.plot(test, output.detach().numpy())   \n",
    "plt.plot(test, np.sin(test))\n",
    "plt.show()\n",
    "#Oh no it seems our Model is lacking in expressivity, what could we improve?"
   ]
  },
  {
   "cell_type": "code",
   "execution_count": null,
   "metadata": {},
   "outputs": [],
   "source": []
  }
 ],
 "metadata": {
  "kernelspec": {
   "display_name": "Python 3",
   "language": "python",
   "name": "python3"
  },
  "language_info": {
   "codemirror_mode": {
    "name": "ipython",
    "version": 3
   },
   "file_extension": ".py",
   "mimetype": "text/x-python",
   "name": "python",
   "nbconvert_exporter": "python",
   "pygments_lexer": "ipython3",
   "version": "3.12.4"
  }
 },
 "nbformat": 4,
 "nbformat_minor": 2
}
