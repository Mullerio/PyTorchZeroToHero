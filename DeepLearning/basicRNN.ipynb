{
 "cells": [
  {
   "cell_type": "markdown",
   "metadata": {},
   "source": [
    "## Recurrent Neural Networks in PyTorch\n",
    "\n",
    "The Recurrent Neural Network (RNN) Architecture, which can actually be seen as a strict generalization of standard MLPs is, alongside Convolutional Neural Networks, one of the classic Architectures of Neural Networks. \n",
    "\n",
    "In some sense, RNN's introduce a time component into the Neural Network by not needed to compute data in a single forward pass. For a basic Introduction see https://en.wikipedia.org/wiki/Recurrent_neural_network.\n",
    "\n",
    "They also have many interesting Theoretical properties, like being able to model any Computable function :O  which we will not focus on. Because it is so widely used, there already exists a PyTorch implementation. "
   ]
  },
  {
   "cell_type": "code",
   "execution_count": 1,
   "metadata": {},
   "outputs": [],
   "source": [
    "import torch\n",
    "import torch.nn as nn"
   ]
  },
  {
   "cell_type": "code",
   "execution_count": null,
   "metadata": {},
   "outputs": [],
   "source": [
    "class basicRNN(nn.Module):\n",
    "    def __init__(self, hidden_dim, input_dim, output_dim):\n",
    "        super().__init__()\n",
    "        self.input_dim = input_dim\n",
    "        self.hidden_dim = hidden_dim\n",
    "        self.output_dim = output_dim\n",
    "        self.act_hidden = nn.Tanh()\n",
    "                \n",
    "        self.in_hidden = nn.Parameter(torch.randn(hidden_dim,input_dim))\n",
    "        self.hidden_hidden = nn.Parameter(torch.randn(hidden_dim,hidden_dim))\n",
    "        self.hidden_out = nn.Parameter(torch.randn(output_dim,hidden_dim))\n",
    "    \n",
    "    def forward(self, x, h_t = None): \n",
    "        if h_t is None: \n",
    "            h_t = torch.zeros(self.hidden_dim) \n",
    "        \n",
    "        out = []\n",
    "        for t in range(x.size(0)):\n",
    "            x_t = x[t] # value at current time-step\n",
    "            h_next = self.act_hidden(self.in_hidden @ x_t + self.hidden_hidden @ h_t)\n",
    "            y = self.hidden_out @ h_next\n",
    "            out.append(y)\n",
    "        out = torch.stack(out, dim = 0)\n",
    "        return out, h_next               "
   ]
  }
 ],
 "metadata": {
  "kernelspec": {
   "display_name": "Python 3",
   "language": "python",
   "name": "python3"
  },
  "language_info": {
   "codemirror_mode": {
    "name": "ipython",
    "version": 3
   },
   "file_extension": ".py",
   "mimetype": "text/x-python",
   "name": "python",
   "nbconvert_exporter": "python",
   "pygments_lexer": "ipython3",
   "version": "3.12.4"
  }
 },
 "nbformat": 4,
 "nbformat_minor": 2
}
